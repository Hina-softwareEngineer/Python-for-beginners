{
 "cells": [
  {
   "cell_type": "markdown",
   "metadata": {},
   "source": [
    "Question: Print the poem in followin order:\n",
    "Twinkle, twinkle, Little Star\n",
    "\tHow i wonder what you are!\n",
    "\t\tUp above the world, so high\n",
    "\t\tLike a diamond in the sky\n",
    "Twinkle, twinkle, Little Star\n",
    "\tHow i wonder what you are!        "
   ]
  },
  {
   "cell_type": "code",
   "execution_count": 2,
   "metadata": {},
   "outputs": [
    {
     "name": "stdout",
     "output_type": "stream",
     "text": [
      "Twinkle, twinkle, Little Star\n",
      "\tHow i wonder what you are!\n",
      "\t\tUp above the world, so high\n",
      "\t\tLike a diamond in the sky\n",
      "Twinkle, twinkle, Little Star\n",
      "\tHow i wonder what you are!\n"
     ]
    }
   ],
   "source": [
    "print(\"Twinkle, twinkle, Little Star\")\n",
    "print(\"\\tHow i wonder what you are!\")\n",
    "print(\"\\t\\tUp above the world, so high\")\n",
    "print(\"\\t\\tLike a diamond in the sky\")\n",
    "print(\"Twinkle, twinkle, Little Star\")\n",
    "print(\"\\tHow i wonder what you are!\")\n"
   ]
  },
  {
   "cell_type": "markdown",
   "metadata": {},
   "source": [
    "Question:Print python version you are using"
   ]
  },
  {
   "cell_type": "code",
   "execution_count": 3,
   "metadata": {},
   "outputs": [
    {
     "name": "stdout",
     "output_type": "stream",
     "text": [
      "3.7.3rc1\n"
     ]
    }
   ],
   "source": [
    "from platform import python_version\n",
    "print(python_version())"
   ]
  },
  {
   "cell_type": "markdown",
   "metadata": {},
   "source": [
    "Question: Print today date and time using python"
   ]
  },
  {
   "cell_type": "code",
   "execution_count": 4,
   "metadata": {},
   "outputs": [
    {
     "name": "stdout",
     "output_type": "stream",
     "text": [
      "2019-11-01 19:38:39.547601\n"
     ]
    }
   ],
   "source": [
    "from datetime import datetime\n",
    "date=datetime.now()\n",
    "print(date)"
   ]
  },
  {
   "cell_type": "code",
   "execution_count": 5,
   "metadata": {},
   "outputs": [
    {
     "name": "stdout",
     "output_type": "stream",
     "text": [
      "01/11/2019  19:38:39\n"
     ]
    }
   ],
   "source": [
    "dt_string = date. strftime(\"%d/%m/%Y  %H:%M:%S\")\n",
    "print(dt_string)"
   ]
  },
  {
   "cell_type": "markdown",
   "metadata": {},
   "source": [
    "Question: Take user input for radius and print area of circle."
   ]
  },
  {
   "cell_type": "code",
   "execution_count": 6,
   "metadata": {},
   "outputs": [
    {
     "name": "stdout",
     "output_type": "stream",
     "text": [
      "Enter radius of circle: \n",
      "3\n",
      "The area of Circle is :  28.278\n"
     ]
    }
   ],
   "source": [
    "print(\"Enter radius of circle: \")\n",
    "rad=float(input())\n",
    "area=3.142*pow(rad,2)\n",
    "print(\"The area of Circle is : \",area)"
   ]
  },
  {
   "cell_type": "markdown",
   "metadata": {},
   "source": [
    "Question: Take your first and last name as user input and print your last name first and then first name using python print function"
   ]
  },
  {
   "cell_type": "code",
   "execution_count": 1,
   "metadata": {},
   "outputs": [
    {
     "name": "stdout",
     "output_type": "stream",
     "text": [
      "Enter your first name: \n",
      "Hina \n",
      "Enter your last name: \n",
      "Khadim\n",
      "Khadim Hina \n"
     ]
    }
   ],
   "source": [
    "print(\"Enter your first name: \")\n",
    "fname=input()\n",
    "print(\"Enter your last name: \")\n",
    "lname=input()\n",
    "print(\"{} {}\".format(lname,fname))"
   ]
  },
  {
   "cell_type": "markdown",
   "metadata": {},
   "source": [
    "Question: Take two numbers as input and print the sum of these"
   ]
  },
  {
   "cell_type": "code",
   "execution_count": 8,
   "metadata": {},
   "outputs": [
    {
     "name": "stdout",
     "output_type": "stream",
     "text": [
      "Enter your first number: \n",
      "34\n",
      "enter your second number: \n",
      "8\n",
      "The addition of  34  and  8  is  42\n"
     ]
    }
   ],
   "source": [
    "print(\"Enter your first number: \")\n",
    "fno=int(input())\n",
    "print(\"enter your second number: \")\n",
    "sno=int(input())\n",
    "print(\"The addition of \",fno,\" and \",sno,\" is \",fno+sno)"
   ]
  }
 ],
 "metadata": {
  "kernelspec": {
   "display_name": "Python 3",
   "language": "python",
   "name": "python3"
  },
  "language_info": {
   "codemirror_mode": {
    "name": "ipython",
    "version": 3
   },
   "file_extension": ".py",
   "mimetype": "text/x-python",
   "name": "python",
   "nbconvert_exporter": "python",
   "pygments_lexer": "ipython3",
   "version": "3.7.3rc1"
  }
 },
 "nbformat": 4,
 "nbformat_minor": 2
}
