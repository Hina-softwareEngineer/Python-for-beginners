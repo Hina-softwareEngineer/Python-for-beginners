{
 "cells": [
  {
   "cell_type": "markdown",
   "metadata": {},
   "source": [
    "### Use a dictionary to store information about a person you know. Store their first name, last name, age, and the city in which they live. You should have keys such as first_name, last_name, age, and city. Print each piece of information stored in your dictionary. Add a new key value pair about qualification then update the qualification value to high academic level then delete it."
   ]
  },
  {
   "cell_type": "code",
   "execution_count": 1,
   "metadata": {},
   "outputs": [
    {
     "name": "stdout",
     "output_type": "stream",
     "text": [
      "{'first_name': 'Hina', 'last_name': 'Khadim', 'age': 18, 'city': 'Karachi'}\n",
      "{'first_name': 'Hina', 'last_name': 'Khadim', 'age': 18, 'city': 'Karachi', 'qualification': 'Intermediate'}\n",
      "{'first_name': 'Hina', 'last_name': 'Khadim', 'age': 18, 'city': 'Karachi', 'qualification': 'High Academic Level'}\n",
      "{'first_name': 'Hina', 'last_name': 'Khadim', 'age': 18, 'city': 'Karachi'}\n"
     ]
    }
   ],
   "source": [
    "dictionary={\n",
    "    \"first_name\":\"Hina\",\n",
    "    \"last_name\":\"Khadim\",\n",
    "    \"age\":18,\n",
    "    \"city\":\"Karachi\",\n",
    "}\n",
    "print(dictionary)\n",
    "dictionary[\"qualification\"]=\"Intermediate\"\n",
    "print(dictionary)\n",
    "dictionary[\"qualification\"]=\"High Academic Level\"\n",
    "print(dictionary)\n",
    "del dictionary[\"qualification\"]\n",
    "print(dictionary)"
   ]
  },
  {
   "cell_type": "markdown",
   "metadata": {},
   "source": [
    "### Make a dictionary called cities. Use the names of three cities as keys in your dictionary. Create a dictionary of information about each city and include the country that the city is in, its approximate population, and one fact about that city. The keys for each city’s dictionary should be something like country, population, and fact. Print the name of each city and all of the information you have stored about it."
   ]
  },
  {
   "cell_type": "code",
   "execution_count": 13,
   "metadata": {},
   "outputs": [
    {
     "name": "stdout",
     "output_type": "stream",
     "text": [
      "Karachi  :\n",
      "\t  Pakistan \n",
      "\t  2 crore \n",
      "\t  Karachi is the biggest city of Pakistan.\n",
      "New York  :\n",
      "\t  America \n",
      "\t  50 lac \n",
      "\t  New York is one of the biggest states of USA.\n",
      "Mosco  :\n",
      "\t  Russia \n",
      "\t  5 lac \n",
      "\t  Mosco is the capital of Russia.\n"
     ]
    }
   ],
   "source": [
    "cities={\n",
    "    \"Karachi\":{\n",
    "    \"country\":\"Pakistan\",\n",
    "    \"population\":\"2 crore\",\n",
    "    \"fact\":\"Karachi is the biggest city of Pakistan.\"\n",
    "},\n",
    "       \"New York\":{\n",
    "           \"country\":\"America\",\n",
    "           \"population\":\"50 lac\",\n",
    "           \"fact\":\"New York is one of the biggest states of USA.\"\n",
    "       },\n",
    "        \"Mosco\":{\n",
    "            \"country\":\"Russia\",\n",
    "            \"population\":\"5 lac\",\n",
    "            \"fact\":\"Mosco is the capital of Russia.\"\n",
    "        },\n",
    "}\n",
    "\n",
    "for key,value in cities.items():\n",
    "    print(key,\" :\\n\\t \",value[\"country\"],\"\\n\\t \",value[\"population\"],\"\\n\\t \",value[\"fact\"])"
   ]
  },
  {
   "cell_type": "markdown",
   "metadata": {},
   "source": [
    "### A movie theater charges different ticket prices depending on a person’s age. If a person is under the age of 3, the ticket is free; if they are between 3 and 12, the ticket is $10; and if they are over age 12, the ticket is $15. Write a loop in which you ask users their age, and then tell them the cost of their movie ticket."
   ]
  },
  {
   "cell_type": "code",
   "execution_count": 18,
   "metadata": {},
   "outputs": [
    {
     "name": "stdout",
     "output_type": "stream",
     "text": [
      "Please enter your age: 20\n",
      "The cost of your movie ticket is : $ 15\n"
     ]
    }
   ],
   "source": [
    "def movie_tickets(age):\n",
    "    price=0 \n",
    "    if age<3:\n",
    "        price=\"0. Free Ticket\"\n",
    "    elif 3<=age<=12:\n",
    "        price=10\n",
    "    elif age>=12:\n",
    "        price=15\n",
    "    return price\n",
    "\n",
    "age=int(input(\"Please enter your age: \"))\n",
    "price=movie_tickets(age)\n",
    "print(\"The cost of your movie ticket is : $\",price)"
   ]
  },
  {
   "cell_type": "markdown",
   "metadata": {},
   "source": [
    "### Write a function called favorite_book() that accepts one parameter, title. The function should print a message, such as One of my favorite books is Alice in Wonderland. Call the function, making sure to include a book title as an argument in the function call."
   ]
  },
  {
   "cell_type": "code",
   "execution_count": 19,
   "metadata": {},
   "outputs": [
    {
     "name": "stdout",
     "output_type": "stream",
     "text": [
      "One of My Favourite book is  Alice in the Wonderland\n"
     ]
    }
   ],
   "source": [
    "def favorite_book(title):\n",
    "    print(\"One of My Favourite book is \",title)\n",
    "    \n",
    "favorite_book(\"Alice in the Wonderland\")"
   ]
  },
  {
   "cell_type": "markdown",
   "metadata": {},
   "source": [
    "### Guess the number game\n",
    "Write a program which randomly generate a number between 1 to 30 and ask the user in input field to guess the correct number. Give three chances to user guess the number and also give hint to user if hidden number is greater or smaller than the number he given to input field.\n"
   ]
  },
  {
   "cell_type": "code",
   "execution_count": 64,
   "metadata": {},
   "outputs": [
    {
     "name": "stdout",
     "output_type": "stream",
     "text": [
      "Guess a number from 1-30\n",
      "\n",
      "11\n",
      "Enter your guess : 34\n",
      "Your guess number is greater than the secret number.\n",
      "Enter your guess : 7\n",
      "Your guess number is less than the secret number.\n",
      "Enter your guess : 11\n",
      "CONGRATULATIONS.....\n",
      "YOU WIN\n"
     ]
    }
   ],
   "source": [
    "import math\n",
    "import random\n",
    "\n",
    "def correct():\n",
    "    a=random.randint(1,30)\n",
    "    print(a)\n",
    "    for i in range(0,3):\n",
    "        guess=int(input(\"Enter your guess : \"))\n",
    "        if guess==a:\n",
    "            print(\"CONGRATULATIONS.....\\nYOU WIN\")\n",
    "            break\n",
    "        elif guess>a:\n",
    "            print(\"Your guess number is greater than the secret number.\")\n",
    "            if i==2:\n",
    "                print(\"YOU LOSE.\\nTRY AGAIN.....\")\n",
    "        elif guess<a:\n",
    "            print(\"Your guess number is less than the secret number.\")\n",
    "            if i==2:\n",
    "                print(\"YOU LOSE.\\nTRY AGAIN.....\")\n",
    "        \n",
    "        \n",
    "        \n",
    "\n",
    "print(\"Guess a number from 1-30\\n\")\n",
    "\n",
    "correct()"
   ]
  }
 ],
 "metadata": {
  "kernelspec": {
   "display_name": "Python 3",
   "language": "python",
   "name": "python3"
  },
  "language_info": {
   "codemirror_mode": {
    "name": "ipython",
    "version": 3
   },
   "file_extension": ".py",
   "mimetype": "text/x-python",
   "name": "python",
   "nbconvert_exporter": "python",
   "pygments_lexer": "ipython3",
   "version": "3.7.3rc1"
  }
 },
 "nbformat": 4,
 "nbformat_minor": 2
}
