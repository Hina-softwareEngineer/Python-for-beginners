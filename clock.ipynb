{
 "cells": [
  {
   "cell_type": "code",
   "execution_count": 9,
   "metadata": {},
   "outputs": [],
   "source": [
    "from tkinter import *\n",
    "from tkinter.ttk import *  # for GUI\n",
    "\n",
    "import time\n",
    "\n",
    "window=Tk()\n",
    "window.title(\"Digital Clock\")\n",
    "\n",
    "def clock():\n",
    "    time1=time.strftime(\"%d/%m/%Y  %H:%M:%S %p\")\n",
    "    label.config(text=time1);\n",
    "    label.after(1000,clock)\n",
    "\n",
    "label=Label(window,\n",
    "            font = ('Calibri', 40, 'bold'), \n",
    "            background = 'purple', \n",
    "            foreground = 'white') \n",
    "label.pack(anchor=\"center\")# to fit the size of window to text\n",
    "\n",
    "clock()    \n",
    "\n",
    "window.mainloop()   "
   ]
  },
  {
   "cell_type": "code",
   "execution_count": null,
   "metadata": {},
   "outputs": [],
   "source": []
  }
 ],
 "metadata": {
  "kernelspec": {
   "display_name": "Python 3",
   "language": "python",
   "name": "python3"
  },
  "language_info": {
   "codemirror_mode": {
    "name": "ipython",
    "version": 3
   },
   "file_extension": ".py",
   "mimetype": "text/x-python",
   "name": "python",
   "nbconvert_exporter": "python",
   "pygments_lexer": "ipython3",
   "version": "3.7.3rc1"
  }
 },
 "nbformat": 4,
 "nbformat_minor": 2
}
