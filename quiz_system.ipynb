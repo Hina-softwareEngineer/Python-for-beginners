{
 "cells": [
  {
   "cell_type": "code",
   "execution_count": 1,
   "metadata": {},
   "outputs": [
    {
     "name": "stdout",
     "output_type": "stream",
     "text": [
      "1  What is your city name?\n",
      "\n",
      "Hyderabad\tisalamabad\n",
      "Tharparkar\tNone of above\n",
      "Enter YOur option: None of above\n",
      "you are correct\n",
      "2  What is your country name?\n",
      "\n",
      "Pakistan\tUSA\n",
      "Malaysia\tNone of above\n",
      "Enter YOur option: Pakistan\n",
      "you are correct\n",
      "1  What is your family name?\n",
      "\n",
      "Hina\tSir Jee\n",
      "Dont Know\tNone of above\n",
      "Enter YOur option: Dont Know\n",
      "you are correct\n",
      "YOur score is  3\n"
     ]
    }
   ],
   "source": [
    "import time\n",
    "quiz=[\n",
    "   { \"S.no:\":1,\n",
    "    \"Question\":\"What is your city name?\",\n",
    "    \"options\":[\"Hyderabad\",\"isalamabad\",\"Tharparkar\",\"None of above\"],\n",
    "    \"Answer\":\"None of above\"},\n",
    "    { \"S.no:\":2,\n",
    "    \"Question\":\"What is your country name?\",\n",
    "    \"options\":[\"Pakistan\",\"USA\",\"Malaysia\",\"None of above\"],\n",
    "    \"Answer\":\"Pakistan\"},\n",
    "    { \"S.no:\":1,\n",
    "    \"Question\":\"What is your family name?\",\n",
    "    \"options\":[\"Hina\",\"Sir Jee\",\"Dont Know\",\"None of above\"],\n",
    "    \"Answer\":\"Dont Know\"},\n",
    "]\n",
    "score=0\n",
    "def display():\n",
    "    \n",
    "    for question in quiz:\n",
    "        global score\n",
    "        data=question[\"S.no:\"]\n",
    "        print(data,\" \"+question[\"Question\"])\n",
    "        print(\"\\n\"+question[\"options\"][0]+\"\\t\"+question[\"options\"][1]+\"\\n\"+question[\"options\"][2]+\"\\t\"+question[\"options\"][3])\n",
    "        answer=input(\"Enter YOur option: \")\n",
    "        if answer==question[\"Answer\"]:\n",
    "            time.sleep(1)\n",
    "            print(\"you are correct\")\n",
    "            score+=1\n",
    "           \n",
    "        else:\n",
    "            time.sleep(1)\n",
    "            print(\"You are wrong\")\n",
    "\n",
    "display()\n",
    "print(\"YOur score is \",score)"
   ]
  },
  {
   "cell_type": "code",
   "execution_count": null,
   "metadata": {},
   "outputs": [],
   "source": []
  }
 ],
 "metadata": {
  "kernelspec": {
   "display_name": "Python 3",
   "language": "python",
   "name": "python3"
  },
  "language_info": {
   "codemirror_mode": {
    "name": "ipython",
    "version": 3
   },
   "file_extension": ".py",
   "mimetype": "text/x-python",
   "name": "python",
   "nbconvert_exporter": "python",
   "pygments_lexer": "ipython3",
   "version": "3.7.3rc1"
  }
 },
 "nbformat": 4,
 "nbformat_minor": 2
}
