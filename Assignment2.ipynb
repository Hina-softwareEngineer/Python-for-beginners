{
 "cells": [
  {
   "cell_type": "code",
   "execution_count": 5,
   "metadata": {},
   "outputs": [
    {
     "name": "stdout",
     "output_type": "stream",
     "text": [
      "Enter marks of your five subjects: \n",
      "76\n",
      "100\n",
      "99\n",
      "32\n",
      "67\n",
      "Subject [ 0 ] =  76.0\n",
      "Subject [ 1 ] =  100.0\n",
      "Subject [ 2 ] =  99.0\n",
      "Subject [ 3 ] =  32.0\n",
      "Subject [ 4 ] =  67.0\n",
      "Obtained Marks =  374.0\n",
      "Percentage is =  74.8 %.\n",
      "Grade B\n"
     ]
    }
   ],
   "source": [
    "print(\"Enter marks of your five subjects: \")\n",
    "marks=[]\n",
    "sum=0\n",
    "for i in range(0,5):\n",
    "    marks.append(float(input()))\n",
    "    sum=sum+marks[i]\n",
    "    \n",
    "\n",
    "for i in range(0,5):\n",
    "    print(\"Subject [\",i,\"] = \",marks[i])\n",
    "    \n",
    "print(\"Obtained Marks = \",sum)\n",
    "p=sum*100/500\n",
    "print(\"Percentage is = \",p,\"%.\")\n",
    "if (p>=80):\n",
    "    print(\"Grade A\")\n",
    "elif (p>=70 and p<=80):\n",
    "    print(\"Grade B\")\n",
    "elif (p>=60 and p<=70):\n",
    "    print(\"Grade C\")\n",
    "else:\n",
    "    print(\"Fail..\")\n",
    "\n"
   ]
  },
  {
   "cell_type": "code",
   "execution_count": 7,
   "metadata": {},
   "outputs": [
    {
     "name": "stdout",
     "output_type": "stream",
     "text": [
      "Enter Number: 1024\n",
      "1024  is Even Number\n"
     ]
    }
   ],
   "source": [
    "no=int(input(\"Enter Number: \"))\n",
    "if no%2==0:\n",
    "    print(no,\" is Even Number\")\n",
    "else:\n",
    "    print(no,\" is Odd Number\")"
   ]
  },
  {
   "cell_type": "code",
   "execution_count": 8,
   "metadata": {},
   "outputs": [
    {
     "name": "stdout",
     "output_type": "stream",
     "text": [
      "4\n"
     ]
    }
   ],
   "source": [
    "list=[\"Car\",98,\"HEllo\",\"My Name\"]\n",
    "print(len(list))"
   ]
  },
  {
   "cell_type": "code",
   "execution_count": 12,
   "metadata": {},
   "outputs": [
    {
     "name": "stdout",
     "output_type": "stream",
     "text": [
      "223\n"
     ]
    }
   ],
   "source": [
    "items=[12,23,34,56,98]\n",
    "sum=0\n",
    "for i in range(0,len(items)):\n",
    "    sum=sum+items[i]\n",
    "print(sum)"
   ]
  },
  {
   "cell_type": "code",
   "execution_count": 14,
   "metadata": {},
   "outputs": [
    {
     "name": "stdout",
     "output_type": "stream",
     "text": [
      "334\n"
     ]
    }
   ],
   "source": [
    "items=[12,23,334,56,98]\n",
    "print(max(items))"
   ]
  },
  {
   "cell_type": "markdown",
   "metadata": {},
   "source": [
    "#or you can find max using below loop method "
   ]
  },
  {
   "cell_type": "code",
   "execution_count": 1,
   "metadata": {},
   "outputs": [
    {
     "name": "stdout",
     "output_type": "stream",
     "text": [
      "2113\n"
     ]
    }
   ],
   "source": [
    "items=[12,2113,334,56,98]\n",
    "maximum=items[0]\n",
    "for m in range(1,len(items)):\n",
    "    if maximum<items[m]:\n",
    "        maximum=items[m]\n",
    "print(maximum)"
   ]
  },
  {
   "cell_type": "code",
   "execution_count": 3,
   "metadata": {},
   "outputs": [
    {
     "name": "stdout",
     "output_type": "stream",
     "text": [
      "Enter number: 1\n",
      "Enter number: 1\n",
      "Enter number: 2\n",
      "Enter number: 3\n",
      "Enter number: 5\n",
      "Enter number: 8\n",
      "Enter number: 13\n",
      "Enter number: 21\n",
      "Enter number: 34\n",
      "Enter number: 55\n",
      "Enter number: 89\n",
      "1\n",
      "1\n",
      "2\n",
      "3\n"
     ]
    }
   ],
   "source": [
    "a=[]\n",
    "choose=\"yes\"\n",
    "while (choose==\"yes\"):\n",
    "    a.append(int(input(\"Enter number: \")))\n",
    "    if (len(a)>10):\n",
    "        choose=\"no\"\n",
    "    \n",
    "for i in range(0,len(a)):\n",
    "    if a[i]<5:\n",
    "        print(a[i])\n"
   ]
  },
  {
   "cell_type": "code",
   "execution_count": null,
   "metadata": {},
   "outputs": [],
   "source": []
  }
 ],
 "metadata": {
  "kernelspec": {
   "display_name": "Python 3",
   "language": "python",
   "name": "python3"
  },
  "language_info": {
   "codemirror_mode": {
    "name": "ipython",
    "version": 3
   },
   "file_extension": ".py",
   "mimetype": "text/x-python",
   "name": "python",
   "nbconvert_exporter": "python",
   "pygments_lexer": "ipython3",
   "version": "3.7.3rc1"
  }
 },
 "nbformat": 4,
 "nbformat_minor": 2
}
