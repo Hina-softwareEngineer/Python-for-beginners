{
 "cells": [
  {
   "cell_type": "markdown",
   "metadata": {},
   "source": [
    "### Question:1 Write a Python function to calculate the factorial of a number (a non-negative integer). The function accepts the number as an argument."
   ]
  },
  {
   "cell_type": "code",
   "execution_count": 2,
   "metadata": {},
   "outputs": [
    {
     "name": "stdout",
     "output_type": "stream",
     "text": [
      "Enter number: 5\n",
      "120  is the facotrial of  5\n"
     ]
    }
   ],
   "source": [
    "def factorial(no):\n",
    "    fact=1\n",
    "    if no>0:\n",
    "        for x in range(1,no+1):\n",
    "           fact=fact*x \n",
    "            \n",
    "    else:\n",
    "        print(\"The factorial of negative number is not possible.\")\n",
    "    print(fact ,\" is the facotrial of \", no)\n",
    "        \n",
    "no=int(input(\"Enter number: \"))\n",
    "factorial(no)"
   ]
  },
  {
   "cell_type": "markdown",
   "metadata": {},
   "source": [
    "### Question:2 Write a Python function that accepts a string and calculate the number of upper case letters and lower case letters."
   ]
  },
  {
   "cell_type": "code",
   "execution_count": 1,
   "metadata": {},
   "outputs": [
    {
     "name": "stdout",
     "output_type": "stream",
     "text": [
      "Enter String: scHoOL\n",
      "3  no of Uppercase Letters\n",
      "3  no of Lowercase Letters\n"
     ]
    }
   ],
   "source": [
    "string=input(\"Enter String: \")\n",
    "\n",
    "upper=0\n",
    "lower=0\n",
    "for x in string:\n",
    "    if x.isupper():\n",
    "        upper=upper+1\n",
    "    elif x.islower():\n",
    "        lower=lower+1\n",
    "    else:\n",
    "        print(\"Only Stirngs are allowed\")\n",
    "        \n",
    "print(upper,\" no of Uppercase Letters\")\n",
    "print(lower,\" no of Lowercase Letters\")"
   ]
  },
  {
   "cell_type": "markdown",
   "metadata": {},
   "source": [
    "### Question:3 Write a Python function to print the even numbers from a given list."
   ]
  },
  {
   "cell_type": "code",
   "execution_count": 5,
   "metadata": {},
   "outputs": [
    {
     "name": "stdout",
     "output_type": "stream",
     "text": [
      "34\n",
      "14\n",
      "890\n",
      "24\n"
     ]
    }
   ],
   "source": [
    "list1=[34,23,657,14,890,345,24,4567,111]\n",
    "\n",
    "def Even(list2):\n",
    "    for no in list2:\n",
    "        if no%2==0:\n",
    "            print(no)\n",
    "Even(list1)"
   ]
  },
  {
   "cell_type": "markdown",
   "metadata": {},
   "source": [
    "### Question:4 Write a Python function that checks whether a passed string is palindrome or not. Note: A palindrome is a word, phrase, or sequence that reads the same backward as forward, e.g., madam"
   ]
  },
  {
   "cell_type": "code",
   "execution_count": 43,
   "metadata": {},
   "outputs": [
    {
     "name": "stdout",
     "output_type": "stream",
     "text": [
      "Enter a string: madam\n",
      "Palidrome String\n"
     ]
    }
   ],
   "source": [
    "inp=input(\"Enter a string: \")\n",
    "\n",
    "def isPalindrome(exp):\n",
    "    original=exp\n",
    "    rev=exp[::-1]\n",
    "    \n",
    "    if original==rev:\n",
    "        return True\n",
    "    return False\n",
    "#     list1=[]\n",
    "    \n",
    "#     for x in exp:\n",
    "#         list1.append(x)\n",
    "#     print(list1)\n",
    "    \n",
    "#     list1.reverse()\n",
    "#     list2=[]\n",
    "    \n",
    "#     for y in list1:\n",
    "#         list2.append(y)\n",
    "#     print(list2)\n",
    "\n",
    "        \n",
    "#     s=len(list2)\n",
    "#     list1.reverse()\n",
    "#     for i in range(0,s):\n",
    "#         if list1[i]==list2[i]:\n",
    "#             print(\"palindrome\",list1[i],list2[i])\n",
    "#         else:\n",
    "#             print(\"not\",list1[i],list2[i])\n",
    "    \n",
    "        \n",
    "if isPalindrome(inp):\n",
    "    print(\"Palidrome String\")\n",
    "else:\n",
    "    print(\"Not Palindrome String\")"
   ]
  },
  {
   "cell_type": "markdown",
   "metadata": {},
   "source": [
    "### Question:5 Write a Python function that takes a number as a parameter and check the number is prime or not."
   ]
  },
  {
   "cell_type": "code",
   "execution_count": 39,
   "metadata": {},
   "outputs": [
    {
     "name": "stdout",
     "output_type": "stream",
     "text": [
      "Enter number: 11\n",
      "11  is PRIME Number\n"
     ]
    }
   ],
   "source": [
    "import math\n",
    "inp=int(input(\"Enter number: \"))\n",
    "def isPrime(inp):\n",
    "    if inp<=1:\n",
    "        return False\n",
    "    else:\n",
    "        count=0\n",
    "        sq=int(math.sqrt(inp))+1\n",
    "        for x in range(2,sq):\n",
    "            if inp%x==0:\n",
    "                count=count+1\n",
    "            else:\n",
    "                count=0\n",
    "        if count==0:\n",
    "            return True\n",
    "        else:\n",
    "            return False\n",
    "\n",
    "if isPrime(inp):\n",
    "    print(inp, \" is PRIME Number\")\n",
    "else:\n",
    "    print(inp,\" is NOT PRIME Number.\")"
   ]
  },
  {
   "cell_type": "markdown",
   "metadata": {},
   "source": [
    "### Question: 6 Suppose a customer is shopping in a market and you need to print all the items which user bought from market. Write a function which accepts the multiple arguments of user shopping list and print all the items which user bought from market. (Hint: Arbitrary Argument concept can make this task ease)"
   ]
  },
  {
   "cell_type": "code",
   "execution_count": 2,
   "metadata": {},
   "outputs": [
    {
     "name": "stdout",
     "output_type": "stream",
     "text": [
      "Customer Name: Customer \n",
      "Price :  24.5\n",
      "List of things: \n",
      "Mango\n",
      "apple\n",
      "Lemon\n",
      "Clothes\n",
      "shoes\n"
     ]
    }
   ],
   "source": [
    "def shopping(fname,price,*things):\n",
    "    print(\"Customer Name: \"+fname+\" \\nPrice : \",price)\n",
    "    print(\"List of things: \")\n",
    "    for thing in things:\n",
    "        print(thing)\n",
    "\n",
    "shopping(\"Customer\",24.50,\"Mango\",\"apple\",\"Lemon\",\"Clothes\",\"shoes\")"
   ]
  }
 ],
 "metadata": {
  "kernelspec": {
   "display_name": "Python 3",
   "language": "python",
   "name": "python3"
  },
  "language_info": {
   "codemirror_mode": {
    "name": "ipython",
    "version": 3
   },
   "file_extension": ".py",
   "mimetype": "text/x-python",
   "name": "python",
   "nbconvert_exporter": "python",
   "pygments_lexer": "ipython3",
   "version": "3.7.3rc1"
  }
 },
 "nbformat": 4,
 "nbformat_minor": 2
}
