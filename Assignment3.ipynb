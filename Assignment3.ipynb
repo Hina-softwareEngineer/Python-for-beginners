{
 "cells": [
  {
   "cell_type": "markdown",
   "metadata": {},
   "source": [
    "## question 1"
   ]
  },
  {
   "cell_type": "code",
   "execution_count": 11,
   "metadata": {},
   "outputs": [
    {
     "name": "stdout",
     "output_type": "stream",
     "text": [
      "Enter two values for operation to perform?2 4\n",
      "Enter operation**\n",
      "The  2  **  4  =  16\n"
     ]
    }
   ],
   "source": [
    "values=(input(\"Enter two values for operation to perform?\"))\n",
    "operation=input(\"Enter operation\")\n",
    "n1,n2=map(int,values.split())\n",
    "\n",
    "if operation==\"+\":\n",
    "    print(\"The \",n1,\" \"+operation+\" \",n2,\" = \",n1+n2);\n",
    "if operation==\"-\":\n",
    "    print(\"The \",n1,\" \"+operation+\" \",n2,\" = \",n1-n2);\n",
    "if operation==\"*\":\n",
    "    print(\"The \",n1,\" \"+operation+\" \",n2,\" = \",n1*n2);\n",
    "if operation==\"/\":\n",
    "    print(\"The \",n1,\" \"+operation+\" \",n2,\" = \",n1/n2);\n",
    "if operation==\"**\":\n",
    "    print(\"The \",n1,\" \"+operation+\" \",n2,\" = \",n1**n2);"
   ]
  },
  {
   "cell_type": "markdown",
   "metadata": {},
   "source": [
    "## question 2"
   ]
  },
  {
   "cell_type": "code",
   "execution_count": 33,
   "metadata": {},
   "outputs": [
    {
     "name": "stdout",
     "output_type": "stream",
     "text": [
      "Numeric value is present.\n",
      "Numeric value is present.\n",
      "Numeric value is present.\n"
     ]
    }
   ],
   "source": [
    "list1=[45,\"hina\",98,100,\"hello\"]\n",
    "if len(list1)==0:\n",
    "    print(\"List is empty\")\n",
    "else:\n",
    "    for value in list1:\n",
    "        if type(value)==int or type(value)==float:\n",
    "            print(\"Numeric value is present.\");"
   ]
  },
  {
   "cell_type": "markdown",
   "metadata": {},
   "source": [
    "## question 3"
   ]
  },
  {
   "cell_type": "code",
   "execution_count": 37,
   "metadata": {},
   "outputs": [
    {
     "name": "stdout",
     "output_type": "stream",
     "text": [
      "{'city1': 'Karachi', 'city2': 'Lahore', 'city3': 'Islamabad', 'city4': 'Quetta'}\n"
     ]
    }
   ],
   "source": [
    "d={\"city1\":\"Karachi\",\"city2\":\"Lahore\",\"city3\":\"Islamabad\"}\n",
    "d[\"city4\"]=\"Quetta\"\n",
    "print(d)"
   ]
  },
  {
   "cell_type": "markdown",
   "metadata": {},
   "source": [
    "## question 4"
   ]
  },
  {
   "cell_type": "code",
   "execution_count": 40,
   "metadata": {},
   "outputs": [
    {
     "name": "stdout",
     "output_type": "stream",
     "text": [
      "178\n",
      "6\n"
     ]
    }
   ],
   "source": [
    "d={0:12,1:23,3:45,2:98}\n",
    "print(sum(d.values()))\n",
    "print(sum(d.keys()))\n"
   ]
  },
  {
   "cell_type": "markdown",
   "metadata": {},
   "source": [
    "## question 5"
   ]
  },
  {
   "cell_type": "code",
   "execution_count": 50,
   "metadata": {},
   "outputs": [
    {
     "name": "stdout",
     "output_type": "stream",
     "text": [
      "23  is a duplicate value\n",
      "hina  is a duplicate value\n",
      "98  is a duplicate value\n",
      "adiba  is a duplicate value\n"
     ]
    }
   ],
   "source": [
    "list1=[23,\"hina\",98,34,754,98,\"adiba\",\"hina\",75,87,23,\"school\",\"adiba\"]\n",
    "for i in range(0,len(list1)-1):\n",
    "\n",
    "    for j in range(i+1,len(list1)):\n",
    "        if list1[i]==list1[j]:\n",
    "            print(list1[i],\" is a duplicate value\")\n",
    "            \n",
    "        "
   ]
  },
  {
   "cell_type": "markdown",
   "metadata": {},
   "source": [
    "## question 6"
   ]
  },
  {
   "cell_type": "code",
   "execution_count": 59,
   "metadata": {},
   "outputs": [
    {
     "name": "stdout",
     "output_type": "stream",
     "text": [
      "Enter key to check : adiba\n",
      "adiba  doesn't exist.\n"
     ]
    }
   ],
   "source": [
    "dictionary={\"name\":\"Hina\",\"class\":\"Second year\",\"Roll_no\":\"Se-029\",\"University\":\"Ned University of Engineering & TEchnology\"}\n",
    "key_name=input(\"Enter key to check : \")\n",
    "count=0\n",
    "for key in dictionary.keys():\n",
    "    if key_name==key:\n",
    "        print(key,\" is already exists in dictionary.\")\n",
    "    else:\n",
    "        if count==(len(dictionary)-1):\n",
    "            print(key_name,\" doesn't exist.\")\n",
    "        count=count+1"
   ]
  },
  {
   "cell_type": "code",
   "execution_count": null,
   "metadata": {},
   "outputs": [],
   "source": []
  }
 ],
 "metadata": {
  "kernelspec": {
   "display_name": "Python 3",
   "language": "python",
   "name": "python3"
  },
  "language_info": {
   "codemirror_mode": {
    "name": "ipython",
    "version": 3
   },
   "file_extension": ".py",
   "mimetype": "text/x-python",
   "name": "python",
   "nbconvert_exporter": "python",
   "pygments_lexer": "ipython3",
   "version": "3.7.3rc1"
  }
 },
 "nbformat": 4,
 "nbformat_minor": 2
}
