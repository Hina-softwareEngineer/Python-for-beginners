{
 "cells": [
  {
   "cell_type": "markdown",
   "metadata": {},
   "source": [
    "## Question 1"
   ]
  },
  {
   "cell_type": "markdown",
   "metadata": {},
   "source": [
    "Object Oriented Programming is a paradigm in which real-world objects have separate attributes and <br/>methods to modify them. Objects can interact with member functions."
   ]
  },
  {
   "cell_type": "markdown",
   "metadata": {},
   "source": [
    "## Question 2 "
   ]
  },
  {
   "cell_type": "markdown",
   "metadata": {},
   "source": [
    "i.. Provide simplicity to write code\n<br/>",
    "ii. make our code easier to write\n<br/>",
    "iii. reusability of code\n<br/>",
    "iv. Model our code to real world objects\n<br/>",
    "v. probelms can be solved effectively.<br/>"
   ]
  },
  {
   "cell_type": "markdown",
   "metadata": {},
   "source": [
    "## Question 3"
   ]
  },
  {
   "cell_type": "markdown",
   "metadata": {},
   "source": [
    "Function:\n",
    "    We call Python function quite generically- we don’t call it on any object.\n<br/>",
    "    Function cant be call by any object.\n<br/>",
    "    \n",
    "Method:\n",
    "    Method is called on an object.Eexample, we call start() on the object ‘car’ \"car.start()\". \n<br/>",
    "    Method can access data within the class.\n<br/>",
    "    A method may alter an object’s state."
   ]
  },
  {
   "cell_type": "markdown",
   "metadata": {},
   "source": [
    "## Question 4 "
   ]
  },
  {
   "cell_type": "markdown",
   "metadata": {},
   "source": [
    "Class: \n<br/>",
    "    A class is a blueprint for creating objects (a particular data structure), providing initial values for \n<br/>",
    "    state (member variables or attributes), and implementations of behavior (member functions or methods).\n<br/>",
    "Object:\nv",
    "    Object are instance of classes. An object is a component of a program that knows how to perform certain actions \n<br/>",
    "    and how to interact with other elements of the program. \n<br/>",
    "Attribute:\n<br/>",
    "    Attributes are data stored inside a class or instance and represent the state of the class or instance. \n<br/>",
    "    Attributes store information about the instance.\n<br/>",
    "Behaviour:\n<br/>",
    "    A class's behavior determines how an instance of that class operates.Behavior is the only way objects \n<br/>",
    "    can do anything to themselves or have anything done to them."
   ]
  },
  {
   "cell_type": "markdown",
   "metadata": {},
   "source": [
    "## Question 5"
   ]
  },
  {
   "cell_type": "code",
   "execution_count": 3,
   "metadata": {},
   "outputs": [
    {
     "name": "stdout",
     "output_type": "stream",
     "text": [
      "Black\n",
      "2013\n",
      "Mehran\n",
      "Big\n",
      "9234-ls\n",
      "The  2013 car has  200  Km/h.\n",
      "None\n",
      "Audi  has volume of  50000\n",
      "None\n",
      "7834-ls Ferrari  has price  200000000\n",
      "None\n"
     ]
    }
   ],
   "source": [
    "class CAR():\n",
    "    def __init__(self,name,model,number,color,lights):\n",
    "        self.name=name\n",
    "        self.model=model\n",
    "        self.number=number\n",
    "        self.color=color\n",
    "        self.lights=lights\n",
    "    def speed(self,speed_1):\n",
    "        print(\"The \",self.model,\"car has \",speed_1,\" Km/h.\")\n",
    "    def volume(self,vol):\n",
    "        print(self.name,\" has volume of \",vol)\n",
    "    def IncreasePrice(self,price):\n",
    "        print(self.number,self.name,\" has price \",price)\n",
    "        \n",
    "car1=CAR(\"Ferrari\",\"2019\",\"7834-ls\",\"Black\",\"Big\")\n",
    "car2=CAR(\"Suzuki\",\"2013\",\"7837-ls\",\"Red\",\"small\")\n",
    "car3=CAR(\"Mehran\",\"2011\",\"1232-ls\",\"yellow\",\"small\")\n",
    "car4=CAR(\"Audi\",\"2018\",\"2343-ls\",\"Green\",\"Big\")\n",
    "car5=CAR(\"Corolla\",\"2017\",\"9234-ls\",\"Purple\",\"Big\")\n",
    "\n",
    "\n",
    "print(car1.color)\n",
    "print(car2.model)\n",
    "print(car3.name)\n",
    "print(car4.lights)\n",
    "print(car5.number)\n",
    "\n",
    "print(car2.speed(200))\n",
    "print(car4.volume(50000))\n",
    "print(car1.IncreasePrice(200000000))"
   ]
  },
  {
   "cell_type": "code",
   "execution_count": null,
   "metadata": {},
   "outputs": [],
   "source": []
  }
 ],
 "metadata": {
  "kernelspec": {
   "display_name": "Python 3",
   "language": "python",
   "name": "python3"
  },
  "language_info": {
   "codemirror_mode": {
    "name": "ipython",
    "version": 3
   },
   "file_extension": ".py",
   "mimetype": "text/x-python",
   "name": "python",
   "nbconvert_exporter": "python",
   "pygments_lexer": "ipython3",
   "version": "3.7.3rc1"
  }
 },
 "nbformat": 4,
 "nbformat_minor": 2
}
